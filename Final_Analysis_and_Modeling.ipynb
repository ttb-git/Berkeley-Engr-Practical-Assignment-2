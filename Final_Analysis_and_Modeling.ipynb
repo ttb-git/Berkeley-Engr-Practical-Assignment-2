{
  "nbformat": 4,
  "nbformat_minor": 0,
  "metadata": {
    "colab": {
      "name": "Final_Analysis_and_Modeling.ipynb",
      "private_outputs": true,
      "provenance": [],
      "collapsed_sections": [],
      "mount_file_id": "1tLIMw5iXXSuqvh_c9OExM2xm6okyaBC4",
      "authorship_tag": "ABX9TyMZzw8S4qEO4meskyXFf5dJ",
      "include_colab_link": true
    },
    "kernelspec": {
      "name": "python3",
      "display_name": "Python 3"
    },
    "language_info": {
      "name": "python"
    }
  },
  "cells": [
    {
      "cell_type": "markdown",
      "metadata": {
        "id": "view-in-github",
        "colab_type": "text"
      },
      "source": [
        "<a href=\"https://colab.research.google.com/github/ttb-git/berkeley-engr/blob/main/Final_Analysis_and_Modeling.ipynb\" target=\"_parent\"><img src=\"https://colab.research.google.com/assets/colab-badge.svg\" alt=\"Open In Colab\"/></a>"
      ]
    },
    {
      "cell_type": "markdown",
      "source": [
        ""
      ],
      "metadata": {
        "id": "4NwAc_MCx0V9"
      }
    },
    {
      "cell_type": "code",
      "execution_count": null,
      "metadata": {
        "id": "k6OcDmncxzWw"
      },
      "outputs": [],
      "source": [
        "# Uploading liblaries and modules\n",
        "\n",
        "import numpy as np\n",
        "import pandas as pd\n",
        "import matplotlib.pyplot as plt\n",
        "import plotly.express as px\n",
        "import seaborn as sns\n",
        "import pandas_profiling as pp\n",
        "%matplotlib inline\n",
        "\n",
        "import subprocess as sp\n",
        "import sys,os,shutil,pickle,time\n",
        "from os.path import join\n",
        "\n",
        "from warnings import filterwarnings\n",
        "filterwarnings('ignore')"
      ]
    },
    {
      "cell_type": "markdown",
      "source": [
        ""
      ],
      "metadata": {
        "id": "ZLh1Iv5yx3wt"
      }
    },
    {
      "cell_type": "code",
      "source": [
        "\n",
        "df = pd.read_csv('/content/drive/MyDrive/practical_application_II_starter (2)/data/cars_cleaned.csv')\n",
        "df.head(5)"
      ],
      "metadata": {
        "id": "YjFcRubyx4WP"
      },
      "execution_count": null,
      "outputs": []
    },
    {
      "cell_type": "code",
      "source": [
        "df= df.drop(columns=['region', 'state'], axis=1)"
      ],
      "metadata": {
        "id": "eZre16A5sNZx"
      },
      "execution_count": null,
      "outputs": []
    },
    {
      "cell_type": "code",
      "source": [
        "df.info()"
      ],
      "metadata": {
        "id": "D6oTC1H7x5GJ"
      },
      "execution_count": null,
      "outputs": []
    },
    {
      "cell_type": "code",
      "source": [
        "from sklearn import preprocessing\n",
        "import pandas as pd\n",
        "le = preprocessing.LabelEncoder()\n",
        "\n",
        "df[['manufacturer', 'model', 'condition', 'cylinders','fuel','title_status', 'transmission','drive','size','type','paint_color']] = df[['manufacturer', 'model', 'condition','cylinders', 'fuel','title_status', 'transmission','drive','size','type','paint_color']].apply(le.fit_transform)\n",
        "\n"
      ],
      "metadata": {
        "id": "jkdI1-IGx5Pq"
      },
      "execution_count": null,
      "outputs": []
    },
    {
      "cell_type": "markdown",
      "source": [
        "Correlation Analysis"
      ],
      "metadata": {
        "id": "-LA4of4cATPu"
      }
    },
    {
      "cell_type": "code",
      "source": [
        "#Understand the Correlation in the DF\n",
        "import seaborn as sns\n",
        "\n",
        "sns.heatmap(df.corr(), annot=True, cmap=\"YlGnBu\")\n",
        "sns.set(rc = {'figure.figsize':(17,17)})"
      ],
      "metadata": {
        "id": "T00or0CWCOX5"
      },
      "execution_count": null,
      "outputs": []
    },
    {
      "cell_type": "code",
      "source": [
        "X = df.drop('price', axis = 1)\n",
        "y = df['price']"
      ],
      "metadata": {
        "id": "wvHQLe1UATiz"
      },
      "execution_count": null,
      "outputs": []
    },
    {
      "cell_type": "code",
      "source": [
        "y.hist(color = \"orange\")"
      ],
      "metadata": {
        "id": "0d1ludZoBjPq"
      },
      "execution_count": null,
      "outputs": []
    },
    {
      "cell_type": "code",
      "source": [
        "X.hist(color = \"red\")"
      ],
      "metadata": {
        "id": "00x-4qfqEGgZ"
      },
      "execution_count": null,
      "outputs": []
    },
    {
      "cell_type": "code",
      "source": [
        "from sklearn import model_selection\n",
        "from sklearn.linear_model import LinearRegression\n",
        "from sklearn.linear_model import Ridge\n",
        "from sklearn.linear_model import Lasso\n",
        "from sklearn.linear_model import ElasticNet\n",
        "from sklearn.neighbors import KNeighborsRegressor\n",
        "from sklearn.svm import SVR\n",
        "from sklearn.metrics import r2_score\n",
        "from sklearn.model_selection import train_test_split\n",
        "from sklearn.metrics import mean_squared_error\n",
        "from math import sqrt"
      ],
      "metadata": {
        "id": "dxz0QAgzG5-B"
      },
      "execution_count": null,
      "outputs": []
    },
    {
      "cell_type": "code",
      "source": [
        "X_train, X_test, y_train, y_test = train_test_split(X, y, random_state = 42)\n",
        "print(X_train.shape)\n",
        "print(X_test.shape)"
      ],
      "metadata": {
        "id": "QjC91B9wAToK"
      },
      "execution_count": null,
      "outputs": []
    },
    {
      "cell_type": "code",
      "source": [
        "from sklearn.linear_model import LinearRegression, Ridge\n",
        "from sklearn.metrics import mean_squared_error as mse\n",
        "lr = LinearRegression()\n",
        "lr.fit(X_train, y_train)\n",
        "y_pred_lr = lr.predict(X_test)\n",
        "rmse_lr = np.sqrt(mse(y_test, y_pred_lr))\n",
        "rr = Ridge()\n",
        "rr.fit(X_train, y_train)\n",
        "y_pred_rr = rr.predict(X_test)\n",
        "rmse_rr = np.sqrt(mse(y_test, y_pred_rr))\n",
        "print('-------------Linear Regression-------------')\n",
        "print(\"RMSE = {:.2f}\".format((rmse_lr)))\n",
        "accuracy = lr.score(X_test,y_test)\n",
        "print('Accuracy = ', accuracy*100,'%')\n",
        "print('-------------Ridge Regression--------------')\n",
        "print(\"RMSE = {:.2f}\".format((rmse_rr)))"
      ],
      "metadata": {
        "id": "qHe4LR6OG6El"
      },
      "execution_count": null,
      "outputs": []
    },
    {
      "cell_type": "code",
      "source": [
        "regressor = LinearRegression()  \n",
        "regressor.fit(X_train, y_train) #training the algorithm\n",
        "\n",
        "#To retrieve the intercept:\n",
        "print(regressor.intercept_)#For retrieving the slope:\n",
        "print(regressor.coef_)"
      ],
      "metadata": {
        "id": "UKXYeTU4G6KK"
      },
      "execution_count": null,
      "outputs": []
    },
    {
      "cell_type": "code",
      "source": [
        "coeff_df = pd.DataFrame(regressor.coef_, X.columns, columns=['Coefficient'])  \n",
        "coeff_df"
      ],
      "metadata": {
        "id": "v3K8DdqTG6SG"
      },
      "execution_count": null,
      "outputs": []
    },
    {
      "cell_type": "code",
      "source": [
        "OLS_pred= regressor.predict(X_train)"
      ],
      "metadata": {
        "id": "oD0KZ9QjG6Yz"
      },
      "execution_count": null,
      "outputs": []
    },
    {
      "cell_type": "code",
      "source": [
        "from sklearn import metrics\n",
        "print('Mean Absolute Error:', round(metrics.mean_absolute_error(y_train, OLS_pred),2))\n",
        "print('Mean Squared Error:', round(metrics.mean_squared_error(y_train, OLS_pred),2))\n",
        "print('Root Mean Squared Error:', round(np.sqrt(metrics.mean_squared_error(y_train, OLS_pred)),2))"
      ],
      "metadata": {
        "id": "yngHOCOeG6fV"
      },
      "execution_count": null,
      "outputs": []
    },
    {
      "cell_type": "markdown",
      "source": [
        "Check performance of the OLS on test data"
      ],
      "metadata": {
        "id": "yyqy7CCHuUSv"
      }
    },
    {
      "cell_type": "code",
      "source": [
        "y_pred = regressor.predict(X_test)"
      ],
      "metadata": {
        "id": "1dpZwFo9uUjX"
      },
      "execution_count": null,
      "outputs": []
    },
    {
      "cell_type": "code",
      "source": [
        "df = pd.DataFrame({'Actual': y_test, 'Predicted': y_pred})\n",
        "df1 = df.head(25)\n",
        "round(df1,2)"
      ],
      "metadata": {
        "id": "B5DsgVIlG6m-"
      },
      "execution_count": null,
      "outputs": []
    },
    {
      "cell_type": "code",
      "source": [
        "df1.plot(kind='bar',figsize=(16,8))\n",
        "plt.grid(which='major', linestyle='-', linewidth='0.8', color='green')\n",
        "plt.grid(which='minor', linestyle=':', linewidth='0.8', color='black')\n",
        "plt.show()"
      ],
      "metadata": {
        "id": "Uh-KBl1kG6t_"
      },
      "execution_count": null,
      "outputs": []
    },
    {
      "cell_type": "markdown",
      "source": [
        "Evaluate OLS prediction on test data"
      ],
      "metadata": {
        "id": "UR4bbawwu0ZB"
      }
    },
    {
      "cell_type": "code",
      "source": [
        "y_pred = regressor.predict(X_test)"
      ],
      "metadata": {
        "id": "sT4d3zmlu0ps"
      },
      "execution_count": null,
      "outputs": []
    },
    {
      "cell_type": "code",
      "source": [
        "print('Mean Absolute Error:', round(metrics.mean_absolute_error(y_test, y_pred),2))\n",
        "print('Mean Squared Error:', round(metrics.mean_squared_error(y_test, y_pred),2))\n",
        "print('Root Mean Squared Error:', round(np.sqrt(metrics.mean_squared_error(y_test, y_pred)),2))"
      ],
      "metadata": {
        "id": "7M-TKVwwG646"
      },
      "execution_count": null,
      "outputs": []
    },
    {
      "cell_type": "markdown",
      "source": [
        "#Ridge Regression"
      ],
      "metadata": {
        "id": "i5ERkx4XvFUr"
      }
    },
    {
      "cell_type": "code",
      "source": [
        "alphas = 10**np.linspace(10,-2,100)*0.5"
      ],
      "metadata": {
        "id": "FLhb52L9vFm6"
      },
      "execution_count": null,
      "outputs": []
    },
    {
      "cell_type": "code",
      "source": [
        "from matplotlib import pyplot as plt\n",
        "from mpl_toolkits.mplot3d import Axes3D\n",
        "from mpl_toolkits import mplot3d\n",
        "from sklearn.preprocessing import scale \n",
        "\n",
        "%matplotlib inline\n",
        "plt.style.use('seaborn-white')\n",
        "\n",
        "import matplotlib.pyplot as plt\n",
        "import numpy as np\n",
        "\n",
        "from sklearn.datasets import make_regression\n",
        "from sklearn.linear_model import Ridge\n",
        "from sklearn.metrics import mean_squared_error\n",
        "\n",
        "clf= Ridge()\n",
        "coefs = []\n",
        "\n",
        "for a in alphas:\n",
        "    clf.set_params(alpha=a)\n",
        "    clf.fit(scale(X_train), y_train)\n",
        "    coefs.append(clf.coef_)\n",
        "    \n",
        "ax = plt.gca()\n",
        "ax.plot(alphas*2, coefs)\n",
        "ax.set_xscale('log')\n",
        "plt.axis('tight')\n",
        "plt.xlabel('alpha')\n",
        "plt.ylabel('weights')"
      ],
      "metadata": {
        "id": "PDTOa4sxG7J_"
      },
      "execution_count": null,
      "outputs": []
    },
    {
      "cell_type": "code",
      "source": [
        "from sklearn.preprocessing import scale \n",
        "from sklearn.model_selection import train_test_split\n",
        "from sklearn.linear_model import Ridge, RidgeCV, Lasso, LassoCV\n",
        "from sklearn.metrics import mean_squared_error\n",
        "\n",
        "ridgecv = RidgeCV(alphas = alphas, scoring = 'neg_mean_squared_error', normalize = True)\n",
        "ridgecv.fit(X_train, y_train)\n",
        "ridgecv.alpha_"
      ],
      "metadata": {
        "id": "RL6NYbmtG7RT"
      },
      "execution_count": null,
      "outputs": []
    },
    {
      "cell_type": "markdown",
      "source": [
        "###Finally, we refit our ridge regression model on the full data set, using the value of alpha chosen by cross-validation, and examine the coefficient estimates."
      ],
      "metadata": {
        "id": "xp-eMfibwNLF"
      }
    },
    {
      "cell_type": "code",
      "source": [
        "# Fit a ridge regression on the training data\n",
        "pred2 = ridgecv.predict(X_test)\n",
        "# Use this model to predict the test data\n",
        "print(pd.Series(ridgecv.coef_, index = X.columns))"
      ],
      "metadata": {
        "id": "4BFJJwFMwNid"
      },
      "execution_count": null,
      "outputs": []
    },
    {
      "cell_type": "code",
      "source": [
        "from sklearn import metrics\n",
        "print('Mean Absolute Error:', round(metrics.mean_absolute_error(y_test, pred2),2))\n",
        "print('Mean Squared Error:', round(metrics.mean_squared_error(y_test, pred2),2))\n",
        "print('Root Mean Squared Error:', round(np.sqrt(metrics.mean_squared_error(y_test, pred2)),2))"
      ],
      "metadata": {
        "id": "4TlBvzQJG7Zy"
      },
      "execution_count": null,
      "outputs": []
    },
    {
      "cell_type": "code",
      "source": [
        "coef_ridge= pd.Series(ridgecv.coef_, index = X.columns)\n",
        "imp_coef = coef_ridge.sort_values()\n",
        "\n",
        "matplotlib.rcParams['figure.figsize'] = (12.0, 12.0)\n",
        "imp_coef.plot(kind = \"barh\")\n",
        "plt.title(\"Feature importance using Ridge Model\")"
      ],
      "metadata": {
        "id": "KI3sx3aNG7hM"
      },
      "execution_count": null,
      "outputs": []
    },
    {
      "cell_type": "markdown",
      "source": [
        "\n",
        "\n",
        "---\n",
        "\n",
        "\n",
        "\n",
        "---\n",
        "\n",
        "\n",
        "\n",
        "---\n",
        "\n",
        "\n",
        "\n",
        "---\n",
        "\n",
        "\n",
        "\n",
        "---\n",
        "\n"
      ],
      "metadata": {
        "id": "iX0wdPyKw1UH"
      }
    },
    {
      "cell_type": "markdown",
      "source": [
        "#Lasso"
      ],
      "metadata": {
        "id": "Rib-pK8_w7B-"
      }
    },
    {
      "cell_type": "code",
      "source": [
        "from sklearn.linear_model import Lasso\n",
        "import numpy as np\n",
        "import pandas as pd\n",
        "from matplotlib import pyplot as plt\n",
        "from mpl_toolkits.mplot3d import Axes3D\n",
        "from mpl_toolkits import mplot3d\n",
        "from sklearn import linear_model\n",
        "from sklearn import datasets\n",
        "from sklearn.preprocessing import scale \n",
        "\n",
        "%matplotlib inline\n",
        "plt.style.use('seaborn-white')"
      ],
      "metadata": {
        "id": "cSKajiA8woKF"
      },
      "execution_count": null,
      "outputs": []
    },
    {
      "cell_type": "code",
      "source": [
        "lasso = Lasso(max_iter = 10000, normalize = True)\n",
        "coefs = []\n",
        "alphas= np.logspace(-1,2,100)\n",
        "for a in alphas:\n",
        "    lasso.set_params(alpha=a)\n",
        "    lasso.fit(scale(X_train), y_train)\n",
        "    coefs.append(lasso.coef_)\n",
        "    \n",
        "ax = plt.gca()\n",
        "ax.plot(alphas*2, coefs)\n",
        "ax.set_xscale('log')\n",
        "plt.axis('tight')\n",
        "plt.xlabel('lambda')\n",
        "plt.ylabel('weights')\n",
        "plt.title('Lasso Paths')\n",
        "plt.legend()"
      ],
      "metadata": {
        "id": "dJ2q5X7WwoPL"
      },
      "execution_count": null,
      "outputs": []
    },
    {
      "cell_type": "code",
      "source": [
        "from sklearn.linear_model import LassoCV\n",
        "from sklearn.metrics import mean_squared_error\n",
        "from sklearn import metrics\n",
        "\n",
        "reg = LassoCV( alphas = None, cv = 10, max_iter = 100000, normalize = True)\n",
        "reg.fit(X_train, y_train)\n",
        "print(\"Best alpha using built-in LassoCV: %f\" % reg.alpha_)\n",
        "print(\"Best score using built-in LassoCV: %f\" %reg.score(X_train,y_train))\n",
        "coef = pd.Series(reg.coef_, index = X.columns)\n",
        "print('Root Mean Squared Error:', round(np.sqrt(metrics.mean_squared_error(y_test, reg.predict(X_test))),2))"
      ],
      "metadata": {
        "id": "blX58ccpwoUz"
      },
      "execution_count": null,
      "outputs": []
    },
    {
      "cell_type": "code",
      "source": [
        "y_pred = reg.predict(X_test)"
      ],
      "metadata": {
        "id": "yA07KuUYwoZD"
      },
      "execution_count": null,
      "outputs": []
    },
    {
      "cell_type": "code",
      "source": [
        "print('Mean Absolute Error:', round(metrics.mean_absolute_error(y_test, y_pred),2))\n",
        "print('Mean Squared Error:', round(metrics.mean_squared_error(y_test, y_pred),2))\n",
        "print('Root Mean Squared Error:', round(np.sqrt(metrics.mean_squared_error(y_test, y_pred)),2))"
      ],
      "metadata": {
        "id": "CKHuTglQwofq"
      },
      "execution_count": null,
      "outputs": []
    },
    {
      "cell_type": "code",
      "source": [
        "reg.alpha_"
      ],
      "metadata": {
        "id": "sirVRk6nwoj7"
      },
      "execution_count": null,
      "outputs": []
    },
    {
      "cell_type": "code",
      "source": [
        "coef"
      ],
      "metadata": {
        "id": "FXWxlZxLwopG"
      },
      "execution_count": null,
      "outputs": []
    },
    {
      "cell_type": "code",
      "source": [
        "imp_coef = coef.sort_values()\n",
        "\n",
        "matplotlib.rcParams['figure.figsize'] = (13.0, 13.0)\n",
        "imp_coef.plot(kind = \"barh\")\n",
        "plt.title(\"Feature importance using Lasso Model\")"
      ],
      "metadata": {
        "id": "GbVpvAbhwotR"
      },
      "execution_count": null,
      "outputs": []
    },
    {
      "cell_type": "code",
      "source": [
        "lasso001 = Lasso(alpha=100, max_iter=10e5)\n",
        "lasso001.fit(X_train,y_train)\n",
        "train_score001=lasso001.score(X_train,y_train)\n",
        "test_score001=lasso001.score(X_test,y_test)\n",
        "coeff_used001 = np.sum(lasso001.coef_!=0)\n",
        "print (\"training score for alpha = \", train_score001)\n",
        "print (\"test score for alpha = \", test_score001)\n",
        "print (\"number of features used: for alpha = \", coeff_used001)"
      ],
      "metadata": {
        "id": "Npv7-0-zwoyW"
      },
      "execution_count": null,
      "outputs": []
    },
    {
      "cell_type": "markdown",
      "source": [
        "#KNN"
      ],
      "metadata": {
        "id": "IRZ-jEMhyL7O"
      }
    },
    {
      "cell_type": "code",
      "source": [
        "from sklearn.neighbors import KNeighborsRegressor\n",
        "from sklearn.metrics import pairwise_distances\n",
        "from sklearn import neighbors\n",
        "from math import sqrt\n",
        "from sklearn.metrics import mean_squared_error"
      ],
      "metadata": {
        "id": "xIQRx80pwo2Y"
      },
      "execution_count": null,
      "outputs": []
    },
    {
      "cell_type": "code",
      "source": [
        "rmse_val2 = [] #to store rmse values for different k\n",
        "for K in range(15):\n",
        "    K += 1\n",
        "    model = neighbors.KNeighborsRegressor(n_neighbors = K)\n",
        "\n",
        "    model.fit(X_train, y_train)  #fit the model\n",
        "    pred=model.predict(X_test) #make prediction on test set\n",
        "    error = sqrt(mean_squared_error(y_test, pred)) #calculate rmse\n",
        "    rmse_val2.append(error) #store rmse values\n",
        "    print('RMSE value for k= ' , K , 'is:', error)"
      ],
      "metadata": {
        "id": "EqZ5dzavwo9-"
      },
      "execution_count": null,
      "outputs": []
    },
    {
      "cell_type": "markdown",
      "source": [
        ""
      ],
      "metadata": {
        "id": "fpazN6iMyiE0"
      }
    },
    {
      "cell_type": "code",
      "source": [
        "#plotting the rmse values against k values\n",
        "import seaborn as sns\n",
        "\n",
        "sns.set(font_scale=1.3)\n",
        "\n",
        "curve = pd.DataFrame(rmse_val2) #elbow curve \n",
        "curve.plot(figsize=(8,5))"
      ],
      "metadata": {
        "id": "qFNTHBD6wpLP"
      },
      "execution_count": null,
      "outputs": []
    },
    {
      "cell_type": "markdown",
      "source": [
        "###This means that we can make the best prediction by looking at two to six nearest neighbors of a data point. The number depends on the insight of the researcher."
      ],
      "metadata": {
        "id": "sIRWH11Lyh2i"
      }
    },
    {
      "cell_type": "markdown",
      "source": [
        "Generating Model for K=1"
      ],
      "metadata": {
        "id": "lzMTNKomG7pw"
      }
    },
    {
      "cell_type": "code",
      "source": [
        "#Import knearest neighbors Classifier model\n",
        "from sklearn.neighbors import KNeighborsClassifier\n",
        "\n",
        "#Create KNN Classifier\n",
        "knn = KNeighborsClassifier(n_neighbors=1)\n",
        "\n",
        "#Train the model using the training sets\n",
        "knn.fit(X_train, y_train)\n",
        "\n",
        "#Predict the response for test dataset\n",
        "y_pred = knn.predict(X_test)"
      ],
      "metadata": {
        "id": "jpwxi73nzIKm"
      },
      "execution_count": null,
      "outputs": []
    },
    {
      "cell_type": "markdown",
      "source": [
        "Model Evaluation"
      ],
      "metadata": {
        "id": "8WqERfaaze-3"
      }
    },
    {
      "cell_type": "code",
      "source": [
        "#Import scikit-learn metrics module for accuracy calculation\n",
        "from sklearn import metrics\n",
        "# Model Accuracy, how often is the classifier correct?\n",
        "print(\"Accuracy:\",metrics.accuracy_score(y_test, y_pred))"
      ],
      "metadata": {
        "id": "iTvjR-Y-zIPv"
      },
      "execution_count": null,
      "outputs": []
    },
    {
      "cell_type": "code",
      "source": [
        "print('Mean Absolute Error:', round(metrics.mean_absolute_error(y_test, y_pred),2))\n",
        "print('Mean Squared Error:', round(metrics.mean_squared_error(y_test, y_pred),2))\n",
        "print('Root Mean Squared Error:', round(np.sqrt(metrics.mean_squared_error(y_test, y_pred)),2))\n",
        "accuracy = knn.score(X_test,y_test)\n",
        "print(\"Accuracy:\", round(accuracy*100,2),'%')"
      ],
      "metadata": {
        "id": "SlmHoKOWzIXI"
      },
      "execution_count": null,
      "outputs": []
    }
  ]
}